{
 "cells": [
  {
   "cell_type": "code",
   "execution_count": 1,
   "id": "8f5838ea",
   "metadata": {},
   "outputs": [],
   "source": [
    "import pandas as pd\n",
    "import matplotlib.pyplot as plt\n",
    "import seaborn as sns\n",
    "import spacy\n",
    "from spacy.lang.en import English\n",
    "from spacy.lang.en.stop_words import STOP_WORDS\n",
    "import string\n",
    "from sklearn.model_selection import train_test_split\n",
    "from sklearn.pipeline import Pipeline\n",
    "from sklearn import metrics"
   ]
  },
  {
   "cell_type": "markdown",
   "id": "d66393be",
   "metadata": {},
   "source": [
    "# Data Loading"
   ]
  },
  {
   "cell_type": "code",
   "execution_count": 2,
   "id": "8bc21ed4",
   "metadata": {},
   "outputs": [],
   "source": [
    "df_yelp = pd.read_table('Data/yelp_labelled.txt')\n",
    "df_imdb = pd.read_table('Data/imdb_labelled.txt')\n",
    "df_amz = pd.read_table('Data/amazon_cells_labelled.txt')\n",
    "# Concatenate our Datasets\n",
    "frames = [df_yelp,df_imdb,df_amz]"
   ]
  },
  {
   "cell_type": "code",
   "execution_count": 3,
   "id": "87c4a01c",
   "metadata": {},
   "outputs": [],
   "source": [
    "for column in frames: \n",
    "    column.columns = [\"Message\",\"Target\"]"
   ]
  },
  {
   "cell_type": "code",
   "execution_count": 4,
   "id": "0541c532",
   "metadata": {},
   "outputs": [
    {
     "data": {
      "text/html": [
       "<div>\n",
       "<style scoped>\n",
       "    .dataframe tbody tr th:only-of-type {\n",
       "        vertical-align: middle;\n",
       "    }\n",
       "\n",
       "    .dataframe tbody tr th {\n",
       "        vertical-align: top;\n",
       "    }\n",
       "\n",
       "    .dataframe thead th {\n",
       "        text-align: right;\n",
       "    }\n",
       "</style>\n",
       "<table border=\"1\" class=\"dataframe\">\n",
       "  <thead>\n",
       "    <tr style=\"text-align: right;\">\n",
       "      <th></th>\n",
       "      <th></th>\n",
       "      <th>Message</th>\n",
       "      <th>Target</th>\n",
       "    </tr>\n",
       "  </thead>\n",
       "  <tbody>\n",
       "    <tr>\n",
       "      <th rowspan=\"5\" valign=\"top\">Yelp</th>\n",
       "      <th>0</th>\n",
       "      <td>Crust is not good.</td>\n",
       "      <td>0</td>\n",
       "    </tr>\n",
       "    <tr>\n",
       "      <th>1</th>\n",
       "      <td>Not tasty and the texture was just nasty.</td>\n",
       "      <td>0</td>\n",
       "    </tr>\n",
       "    <tr>\n",
       "      <th>2</th>\n",
       "      <td>Stopped by during the late May bank holiday of...</td>\n",
       "      <td>1</td>\n",
       "    </tr>\n",
       "    <tr>\n",
       "      <th>3</th>\n",
       "      <td>The selection on the menu was great and so wer...</td>\n",
       "      <td>1</td>\n",
       "    </tr>\n",
       "    <tr>\n",
       "      <th>4</th>\n",
       "      <td>Now I am getting angry and I want my damn pho.</td>\n",
       "      <td>0</td>\n",
       "    </tr>\n",
       "  </tbody>\n",
       "</table>\n",
       "</div>"
      ],
      "text/plain": [
       "                                                  Message  Target\n",
       "Yelp 0                                 Crust is not good.       0\n",
       "     1          Not tasty and the texture was just nasty.       0\n",
       "     2  Stopped by during the late May bank holiday of...       1\n",
       "     3  The selection on the menu was great and so wer...       1\n",
       "     4     Now I am getting angry and I want my damn pho.       0"
      ]
     },
     "execution_count": 4,
     "metadata": {},
     "output_type": "execute_result"
    }
   ],
   "source": [
    "# Assign a Key to Make it Easier\n",
    "keys = ['Yelp','IMDB','Amazon']\n",
    "# Merge or Concat our Datasets\n",
    "df = pd.concat(frames,keys=keys)\n",
    "df.head()"
   ]
  },
  {
   "cell_type": "markdown",
   "id": "9b5516b9",
   "metadata": {},
   "source": [
    "# Data Cleaning"
   ]
  },
  {
   "cell_type": "code",
   "execution_count": 5,
   "id": "b83680db",
   "metadata": {},
   "outputs": [],
   "source": [
    "# Create our list of punctuation marks\n",
    "punctuations = string.punctuation\n",
    "\n",
    "# Create our list of stopwords\n",
    "nlp = spacy.load('en_core_web_sm')\n",
    "stop_words = spacy.lang.en.stop_words.STOP_WORDS\n",
    "\n",
    "# Load English tokenizer, tagger, parser, NER and word vectors\n",
    "#parser = English()"
   ]
  },
  {
   "cell_type": "code",
   "execution_count": 6,
   "id": "4137fd46",
   "metadata": {},
   "outputs": [],
   "source": [
    "def lemmatize(doc):\n",
    "    return [token.lemma_ for token in doc if not\n",
    "           (token.is_punct or token.is_space or token.lower_ in STOP_WORDS)]"
   ]
  },
  {
   "cell_type": "code",
   "execution_count": 126,
   "id": "00607eea",
   "metadata": {},
   "outputs": [],
   "source": [
    "# Creating our tokenizer function. This function will lemmatize, remove stop words, remove punctuations and remove noun? proper noun?\n",
    "def spacy_tokenizer(doc):\n",
    "    # Creating our token object, which is used to create documents with linguistic annotations.\n",
    "    #mytokens = parser(sentence)\n",
    "    tokens = nlp(doc)\n",
    "    #print(tokens)\n",
    "\n",
    "    # Lemmatizing each token and converting each token into lowercase\n",
    "    #tokens = [ word.lemma_.lower().strip() if word.lemma_ != \"-PRON-\" else word.lower_ for word in mytokens ]\n",
    "    tokens = [word.lemma_.lower() for word in tokens]\n",
    "#     tokens = [word.lemma_.lower() for word in tokens if not (word.is_space or word.is_punct or word.is_digit or\n",
    "#                                                              word.pos_==\"NUM\" or word.pos_==\"PUNCT\" or\n",
    "#                                                              word.pos_==\"PROPN\")]\n",
    "    #print(tokens)\n",
    "    \n",
    "    # Removing stop words and punctuations\n",
    "    tokens = [ word for word in tokens if word not in stop_words and word not in punctuations]\n",
    "\n",
    "    # return preprocessed list of tokens\n",
    "    return tokens"
   ]
  },
  {
   "cell_type": "code",
   "execution_count": 82,
   "id": "b089c04e",
   "metadata": {},
   "outputs": [
    {
     "data": {
      "text/plain": [
       "['Roberto', 'like', '1', 'joke', '-drink']"
      ]
     },
     "execution_count": 82,
     "metadata": {},
     "output_type": "execute_result"
    }
   ],
   "source": [
    "#sent = 'Hey my name is Roberto and I am the best!'\n",
    "sent = 'Roberto liked all the 1 jokes -drink .....'\n",
    "doc = nlp(sent)\n",
    "lemmatize(doc)"
   ]
  },
  {
   "cell_type": "code",
   "execution_count": 83,
   "id": "dc221200",
   "metadata": {},
   "outputs": [
    {
     "data": {
      "text/plain": [
       "['like', 'joke']"
      ]
     },
     "execution_count": 83,
     "metadata": {},
     "output_type": "execute_result"
    }
   ],
   "source": [
    "spacy_tokenizer(sent)"
   ]
  },
  {
   "cell_type": "code",
   "execution_count": 84,
   "id": "f33a7690",
   "metadata": {},
   "outputs": [
    {
     "name": "stdout",
     "output_type": "stream",
     "text": [
      "<class 'spacy.tokens.token.Token'>\n",
      "Roberto PROPN False False False\n",
      "liked VERB False False False\n",
      "all DET False False False\n",
      "the DET False False False\n",
      "1 NUM False False True\n",
      "jokes NOUN False False False\n",
      "-drink PROPN False False False\n",
      "..... PUNCT False True False\n"
     ]
    }
   ],
   "source": [
    "print(type(doc[0]))\n",
    "for word in doc:\n",
    "    print(word, word.pos_, word.is_space, word.is_punct, word.is_digit)"
   ]
  },
  {
   "cell_type": "markdown",
   "id": "7f7d150f",
   "metadata": {},
   "source": [
    "# Modeling"
   ]
  },
  {
   "cell_type": "code",
   "execution_count": 11,
   "id": "7c91c2b3",
   "metadata": {},
   "outputs": [],
   "source": [
    "from sklearn.base import TransformerMixin \n",
    "\n",
    "# This function will clean the text\n",
    "def clean_text(text):     \n",
    "    return text.strip().lower()\n",
    "    \n",
    "#Custom transformer using Python standard library (you could use spacy as well)\n",
    "class predictors(TransformerMixin):\n",
    "\n",
    "    def transform(self, X, **transform_params):\n",
    "        return [clean_text(text) for text in X]\n",
    "\n",
    "    def fit(self, X, y=None, **fit_params):\n",
    "        return self\n",
    "\n",
    "    def get_params(self, deep=True):\n",
    "        return {}"
   ]
  },
  {
   "cell_type": "code",
   "execution_count": 127,
   "id": "0a839e02",
   "metadata": {},
   "outputs": [],
   "source": [
    "from sklearn.feature_extraction.text import CountVectorizer\n",
    "from sklearn.feature_extraction.text import TfidfVectorizer\n",
    "\n",
    "# We create our bag of words (bow) using our tokenizer and defining an ngram range\n",
    "bow = CountVectorizer(tokenizer = spacy_tokenizer, ngram_range=(1,1)) \n",
    "# Using Tfidf\n",
    "tfvectorizer = TfidfVectorizer(tokenizer = spacy_tokenizer)"
   ]
  },
  {
   "cell_type": "code",
   "execution_count": 13,
   "id": "d3d727cc",
   "metadata": {},
   "outputs": [],
   "source": [
    "# Features and Labels\n",
    "X = df['Message']\n",
    "ylabels = df['Target']"
   ]
  },
  {
   "cell_type": "code",
   "execution_count": 14,
   "id": "05adf364",
   "metadata": {},
   "outputs": [],
   "source": [
    "X_train, X_test, y_train, y_test = train_test_split(X, ylabels, test_size=0.3, random_state=42)"
   ]
  },
  {
   "cell_type": "code",
   "execution_count": 86,
   "id": "9556f054",
   "metadata": {},
   "outputs": [],
   "source": [
    "tf = tfvectorizer.fit_transform(X_train)"
   ]
  },
  {
   "cell_type": "code",
   "execution_count": 87,
   "id": "ece05da7",
   "metadata": {
    "collapsed": true
   },
   "outputs": [
    {
     "data": {
      "text/plain": [
       "['-drink',\n",
       " '-my',\n",
       " '18th',\n",
       " '20th',\n",
       " '2mp',\n",
       " '3/4th',\n",
       " '30',\n",
       " '40min',\n",
       " '4s',\n",
       " '5(of',\n",
       " '700w',\n",
       " 'aailiyah',\n",
       " 'abhor',\n",
       " 'ability',\n",
       " 'able',\n",
       " 'abound',\n",
       " 'abroad',\n",
       " 'absolutel',\n",
       " 'absolutely',\n",
       " 'abysmal',\n",
       " 'academy',\n",
       " 'accent',\n",
       " 'accept',\n",
       " 'acceptable',\n",
       " 'access',\n",
       " 'accessable',\n",
       " 'accessible',\n",
       " 'accessory',\n",
       " 'accessoryone',\n",
       " 'accident',\n",
       " 'accidentally',\n",
       " 'accolade',\n",
       " 'accomodate',\n",
       " 'accompanied',\n",
       " 'accountant',\n",
       " 'accurate',\n",
       " 'accuse',\n",
       " 'ache',\n",
       " 'achievement',\n",
       " 'acknowledge',\n",
       " 'act',\n",
       " 'acting',\n",
       " 'action',\n",
       " 'activate',\n",
       " 'activesync',\n",
       " 'actor',\n",
       " 'actress',\n",
       " 'actual',\n",
       " 'actually',\n",
       " 'ad',\n",
       " 'adaptation',\n",
       " 'add',\n",
       " 'addition',\n",
       " 'additional',\n",
       " 'address',\n",
       " 'adhesive',\n",
       " 'admit',\n",
       " 'adorable',\n",
       " 'adorable!his',\n",
       " 'adorable.the',\n",
       " 'adventure',\n",
       " 'advertise',\n",
       " 'advise',\n",
       " 'aerial',\n",
       " 'aesthetically',\n",
       " 'age',\n",
       " 'aged',\n",
       " 'aggravating',\n",
       " 'ago',\n",
       " 'agree',\n",
       " 'ahead',\n",
       " 'air',\n",
       " 'airline',\n",
       " 'airport',\n",
       " 'akin',\n",
       " 'ala',\n",
       " 'alert',\n",
       " 'alike',\n",
       " 'allergy',\n",
       " 'allot',\n",
       " 'allow',\n",
       " 'almond',\n",
       " 'alot',\n",
       " 'aluminum',\n",
       " 'amazed',\n",
       " 'amazing',\n",
       " 'amazon',\n",
       " 'ambiance',\n",
       " 'ambience',\n",
       " 'american',\n",
       " 'ample',\n",
       " 'amusing',\n",
       " 'angel',\n",
       " 'angle',\n",
       " 'angry',\n",
       " 'anguish',\n",
       " 'animate',\n",
       " 'animation',\n",
       " 'anniversary',\n",
       " 'annoy',\n",
       " 'annoying',\n",
       " 'answer',\n",
       " 'ant',\n",
       " 'antena',\n",
       " 'anti',\n",
       " 'anticipate',\n",
       " 'antithesis',\n",
       " 'anymore',\n",
       " 'anytime',\n",
       " 'anyways',\n",
       " 'apart',\n",
       " 'apartment',\n",
       " 'apologize',\n",
       " 'apology',\n",
       " 'appalling',\n",
       " 'apparently',\n",
       " 'appeal',\n",
       " 'appealing',\n",
       " 'appear',\n",
       " 'appearance',\n",
       " 'appetite',\n",
       " 'appetizer',\n",
       " 'applaud',\n",
       " 'apple',\n",
       " 'appreciate',\n",
       " 'approval',\n",
       " 'apt',\n",
       " 'area',\n",
       " 'area/',\n",
       " 'argue',\n",
       " 'array',\n",
       " 'arrive',\n",
       " 'art',\n",
       " 'article',\n",
       " 'articulate',\n",
       " 'artiness',\n",
       " 'artistic',\n",
       " 'artless',\n",
       " 'aside',\n",
       " 'ask',\n",
       " 'asleep',\n",
       " 'aspect',\n",
       " 'ass',\n",
       " 'assistant',\n",
       " 'assume',\n",
       " 'assure',\n",
       " 'atleast',\n",
       " 'atmosphere',\n",
       " 'atmosphere.1',\n",
       " 'atrocious',\n",
       " 'atrocity',\n",
       " 'attach',\n",
       " 'attack',\n",
       " 'attempt',\n",
       " 'attention',\n",
       " 'attentive',\n",
       " 'attitude',\n",
       " 'attractive',\n",
       " 'audience',\n",
       " 'audio',\n",
       " 'authentic',\n",
       " 'auto',\n",
       " 'available',\n",
       " 'average',\n",
       " 'avoid',\n",
       " 'award',\n",
       " 'away',\n",
       " 'awesome',\n",
       " 'awful',\n",
       " 'awkward',\n",
       " 'awkwardly',\n",
       " 'awsome',\n",
       " 'b',\n",
       " 'baaaaaad',\n",
       " 'baba',\n",
       " 'babble',\n",
       " 'babie',\n",
       " 'baby',\n",
       " 'babysitting',\n",
       " 'background',\n",
       " 'backlight',\n",
       " 'bacon',\n",
       " 'bad',\n",
       " 'badly',\n",
       " 'bag',\n",
       " 'bagel',\n",
       " 'bakery',\n",
       " 'baklava',\n",
       " 'balance',\n",
       " 'balanced',\n",
       " 'ball',\n",
       " 'bamboo',\n",
       " 'banana',\n",
       " 'band',\n",
       " 'bar',\n",
       " 'barcelona',\n",
       " 'bare',\n",
       " 'barely',\n",
       " 'bargain',\n",
       " 'bark',\n",
       " 'barney',\n",
       " 'barren',\n",
       " 'bartender',\n",
       " 'base',\n",
       " 'baseball',\n",
       " 'basic',\n",
       " 'basically',\n",
       " 'bat',\n",
       " 'batch',\n",
       " 'bate',\n",
       " 'bathroom',\n",
       " 'batter',\n",
       " 'battery',\n",
       " 'bay',\n",
       " 'bean',\n",
       " 'bear',\n",
       " 'beat',\n",
       " 'beautiful',\n",
       " 'beautifully',\n",
       " 'beauty',\n",
       " 'bed',\n",
       " 'beef',\n",
       " 'beep',\n",
       " 'beer',\n",
       " \"before'.i\",\n",
       " 'begin',\n",
       " 'beginning',\n",
       " 'believable',\n",
       " 'believe',\n",
       " 'bell',\n",
       " 'bellucci',\n",
       " 'belly',\n",
       " 'belt',\n",
       " 'bend',\n",
       " 'bendingly',\n",
       " 'bertolucci',\n",
       " 'beware',\n",
       " 'bible',\n",
       " 'big',\n",
       " 'bill',\n",
       " 'billy',\n",
       " 'binge',\n",
       " 'bipolarity',\n",
       " 'biscuit',\n",
       " 'bit',\n",
       " 'bitchy',\n",
       " 'bite',\n",
       " 'bitpim',\n",
       " 'black',\n",
       " 'blackberry',\n",
       " 'blacktop',\n",
       " 'blah',\n",
       " 'blake',\n",
       " 'bland',\n",
       " 'blandly',\n",
       " 'blanket',\n",
       " 'blatant',\n",
       " 'block',\n",
       " 'blood',\n",
       " 'bloody',\n",
       " 'blow',\n",
       " 'blue',\n",
       " 'blueant',\n",
       " 'bluetooth',\n",
       " 'blush',\n",
       " 'boba',\n",
       " 'bodes',\n",
       " 'body',\n",
       " 'bohemian',\n",
       " 'boil',\n",
       " 'bold',\n",
       " 'bombardment',\n",
       " 'bond',\n",
       " 'bonding',\n",
       " 'bone',\n",
       " 'bonus',\n",
       " 'boogeyman',\n",
       " 'book',\n",
       " 'booking',\n",
       " 'boost',\n",
       " 'boot',\n",
       " 'bop',\n",
       " 'borderline',\n",
       " 'bore',\n",
       " 'bored',\n",
       " 'boring',\n",
       " 'bose',\n",
       " 'boss',\n",
       " 'bother',\n",
       " 'bouchon',\n",
       " 'bougth',\n",
       " 'bowl',\n",
       " 'box',\n",
       " 'boy',\n",
       " 'boyfriend',\n",
       " 'brain',\n",
       " 'brainsucke',\n",
       " 'brat',\n",
       " 'bread',\n",
       " 'break',\n",
       " 'breakfast',\n",
       " 'breaking',\n",
       " 'breeder',\n",
       " 'brevity',\n",
       " 'brick',\n",
       " 'brilliance',\n",
       " 'brilliant',\n",
       " 'brilliantly',\n",
       " 'bring',\n",
       " 'brisket',\n",
       " 'broad',\n",
       " 'broke).-',\n",
       " 'brood',\n",
       " 'brother',\n",
       " 'brownish',\n",
       " 'browser',\n",
       " 'browsing',\n",
       " 'brunch',\n",
       " 'bruschetta',\n",
       " 'brushfire',\n",
       " 'brutal',\n",
       " 'bt',\n",
       " 'bubbling',\n",
       " 'buck',\n",
       " 'bud',\n",
       " 'budget',\n",
       " 'buffet',\n",
       " 'bug',\n",
       " 'build',\n",
       " 'building',\n",
       " 'buldogis',\n",
       " 'bulky',\n",
       " 'bumper',\n",
       " 'bunch',\n",
       " 'burger',\n",
       " 'burn',\n",
       " 'burrittos',\n",
       " 'bus',\n",
       " 'business',\n",
       " 'busy',\n",
       " 'butter',\n",
       " 'button',\n",
       " 'buy',\n",
       " 'buyit',\n",
       " 'buzzing',\n",
       " 'cable',\n",
       " 'cafe',\n",
       " 'café',\n",
       " 'caille',\n",
       " 'cake',\n",
       " 'calamari',\n",
       " 'calendar',\n",
       " 'calling',\n",
       " 'camelback',\n",
       " 'cameo',\n",
       " 'camera',\n",
       " 'campy',\n",
       " 'canal',\n",
       " 'cancelling',\n",
       " 'cannoli',\n",
       " 'capability',\n",
       " 'cape',\n",
       " 'caper',\n",
       " 'captain',\n",
       " 'capture',\n",
       " 'car',\n",
       " 'carb',\n",
       " 'card',\n",
       " 'cardboard',\n",
       " 'care',\n",
       " 'careful',\n",
       " 'carly',\n",
       " 'carol',\n",
       " 'carpaccio',\n",
       " 'carrier',\n",
       " 'carry',\n",
       " 'cart',\n",
       " 'cartel',\n",
       " 'cartoon',\n",
       " 'case',\n",
       " 'cash',\n",
       " 'cashew',\n",
       " 'cashier',\n",
       " 'casing',\n",
       " 'casino',\n",
       " 'cast',\n",
       " 'casting',\n",
       " 'cat',\n",
       " 'catch',\n",
       " 'catching',\n",
       " 'caterpillar',\n",
       " 'cause',\n",
       " 'cbr',\n",
       " 'cd',\n",
       " 'cease',\n",
       " 'celebrity',\n",
       " 'cell',\n",
       " 'cellphone',\n",
       " 'cellular',\n",
       " 'celluloid',\n",
       " 'cent',\n",
       " 'center',\n",
       " 'central',\n",
       " 'century',\n",
       " 'certain',\n",
       " 'certainly',\n",
       " 'cg',\n",
       " 'chai',\n",
       " 'challenge',\n",
       " 'chance',\n",
       " 'change',\n",
       " 'character',\n",
       " 'charcoal',\n",
       " 'charge',\n",
       " 'charger',\n",
       " 'charisma',\n",
       " 'charismatic',\n",
       " 'charm',\n",
       " 'charming',\n",
       " 'chase',\n",
       " 'cheap',\n",
       " 'cheaply',\n",
       " 'cheapy',\n",
       " 'cheat',\n",
       " 'check',\n",
       " 'cheek',\n",
       " 'cheekbone',\n",
       " 'cheerfull',\n",
       " 'cheese',\n",
       " 'cheeseburger',\n",
       " 'cheesecurd',\n",
       " 'cheesy',\n",
       " 'chef',\n",
       " 'chemistry',\n",
       " 'chewy',\n",
       " 'chick',\n",
       " 'chicken',\n",
       " 'child',\n",
       " 'childhood',\n",
       " 'children',\n",
       " 'chinese',\n",
       " 'chip',\n",
       " 'chipotle',\n",
       " 'chocolate',\n",
       " 'choice',\n",
       " 'choose',\n",
       " 'church',\n",
       " 'cibo',\n",
       " 'cinema',\n",
       " 'cinematic',\n",
       " 'cinematographer',\n",
       " 'cinematography',\n",
       " 'cingulair',\n",
       " 'cingular',\n",
       " 'circumstance',\n",
       " 'claim',\n",
       " 'clarity',\n",
       " 'class',\n",
       " 'classic',\n",
       " 'classical',\n",
       " 'classy',\n",
       " 'clean',\n",
       " 'clear',\n",
       " 'clearly',\n",
       " 'clever',\n",
       " 'click',\n",
       " 'client',\n",
       " 'cliff',\n",
       " 'climax',\n",
       " 'climb',\n",
       " 'clip',\n",
       " 'close',\n",
       " 'closed',\n",
       " 'clothe',\n",
       " 'club',\n",
       " 'clue',\n",
       " 'coach',\n",
       " 'coastal',\n",
       " 'cocktail',\n",
       " 'coconut',\n",
       " 'cod',\n",
       " 'coffee',\n",
       " 'coherent',\n",
       " 'cold',\n",
       " 'colleague',\n",
       " 'collect',\n",
       " 'collective',\n",
       " 'college',\n",
       " 'color',\n",
       " 'colorful',\n",
       " 'columbo',\n",
       " 'combination',\n",
       " 'combo',\n",
       " 'come',\n",
       " 'comedic',\n",
       " 'comedy',\n",
       " 'comfort',\n",
       " 'comfortable',\n",
       " 'comfortably',\n",
       " 'comical',\n",
       " 'comment',\n",
       " 'commercial',\n",
       " 'communication',\n",
       " 'commuter',\n",
       " 'companion',\n",
       " 'company',\n",
       " 'comparably',\n",
       " 'compare',\n",
       " 'compelling',\n",
       " 'compete',\n",
       " 'competitor',\n",
       " 'complain',\n",
       " 'complaint',\n",
       " 'complete',\n",
       " 'completely',\n",
       " 'complex',\n",
       " 'complexity',\n",
       " 'compliment',\n",
       " 'compose',\n",
       " 'compromise',\n",
       " 'computer',\n",
       " 'concept',\n",
       " 'concern',\n",
       " 'conclusion',\n",
       " 'concrete',\n",
       " 'condiment',\n",
       " 'condition',\n",
       " 'confidence',\n",
       " 'configuration',\n",
       " 'conflict',\n",
       " 'confuse',\n",
       " 'confusing',\n",
       " 'connect',\n",
       " 'connection',\n",
       " 'connisseur',\n",
       " 'connoisseur',\n",
       " 'consider',\n",
       " 'consistent',\n",
       " 'consolation',\n",
       " 'constant',\n",
       " 'constantine',\n",
       " 'constantly',\n",
       " 'construct',\n",
       " 'construction',\n",
       " 'consumer',\n",
       " 'contact',\n",
       " 'contain',\n",
       " 'continue',\n",
       " 'continuity',\n",
       " 'continuously',\n",
       " 'control',\n",
       " 'controversy',\n",
       " 'convenient',\n",
       " 'convention',\n",
       " 'conversation',\n",
       " 'convey',\n",
       " 'convince',\n",
       " 'convincing',\n",
       " 'convoluted',\n",
       " 'cook',\n",
       " 'cooking',\n",
       " 'cool',\n",
       " 'copy',\n",
       " 'cord',\n",
       " 'core',\n",
       " 'corny',\n",
       " 'corporation',\n",
       " 'correct',\n",
       " 'correction',\n",
       " 'correctly',\n",
       " 'cost',\n",
       " 'cotta',\n",
       " 'cotton',\n",
       " 'count',\n",
       " 'counterfeit',\n",
       " 'couple',\n",
       " 'coupon',\n",
       " 'course',\n",
       " 'courteous',\n",
       " 'courtroom',\n",
       " 'cover',\n",
       " 'coverage',\n",
       " 'cow',\n",
       " 'cowardice',\n",
       " 'coziness',\n",
       " 'crab',\n",
       " 'cradle',\n",
       " 'cranberry',\n",
       " 'crap',\n",
       " 'crappy',\n",
       " 'crash',\n",
       " 'craving',\n",
       " 'crawfish',\n",
       " 'crayon',\n",
       " 'crazy',\n",
       " 'cream',\n",
       " 'create',\n",
       " 'creativity',\n",
       " 'creature',\n",
       " 'credible',\n",
       " 'credit',\n",
       " 'crema',\n",
       " 'crepe',\n",
       " 'crew',\n",
       " 'crisp',\n",
       " 'crispy',\n",
       " 'critic',\n",
       " 'critical',\n",
       " 'crouton',\n",
       " 'crowd',\n",
       " 'crowe',\n",
       " 'crumby',\n",
       " 'crust',\n",
       " 'crusty',\n",
       " 'cry',\n",
       " 'cuisine',\n",
       " 'cult',\n",
       " 'culture',\n",
       " 'cumbersome',\n",
       " 'current',\n",
       " 'currently',\n",
       " 'curry',\n",
       " 'curtain',\n",
       " 'curve',\n",
       " 'custer',\n",
       " 'customer',\n",
       " 'customize',\n",
       " 'cut',\n",
       " 'cute',\n",
       " 'cute.but',\n",
       " 'cutout',\n",
       " 'd807',\n",
       " 'dad',\n",
       " 'daily',\n",
       " 'damn',\n",
       " 'dance',\n",
       " 'dancing',\n",
       " 'dangerous',\n",
       " 'dark',\n",
       " 'darn',\n",
       " 'darren',\n",
       " 'date',\n",
       " 'datum',\n",
       " 'daughter',\n",
       " 'day',\n",
       " 'de',\n",
       " 'dead',\n",
       " 'deadly',\n",
       " 'deaf',\n",
       " 'deal',\n",
       " 'death',\n",
       " 'debate',\n",
       " 'decade',\n",
       " 'decay',\n",
       " 'decent',\n",
       " 'decide',\n",
       " 'decidely',\n",
       " 'decipher',\n",
       " 'decision',\n",
       " 'decor',\n",
       " 'decorate',\n",
       " 'dedicated',\n",
       " 'dedication',\n",
       " 'dee',\n",
       " 'deep',\n",
       " 'deeply',\n",
       " 'def',\n",
       " 'defective',\n",
       " 'defenseman',\n",
       " 'deffinitely',\n",
       " 'definitely',\n",
       " 'definitly',\n",
       " 'degree',\n",
       " 'delay',\n",
       " 'delete',\n",
       " 'delicate',\n",
       " 'delicioso',\n",
       " 'delicious',\n",
       " 'deliciously',\n",
       " 'delight',\n",
       " 'delightful',\n",
       " 'delish',\n",
       " 'deliver',\n",
       " 'delivery',\n",
       " 'depict',\n",
       " 'depressing',\n",
       " 'depth',\n",
       " 'describe',\n",
       " 'description',\n",
       " 'desert',\n",
       " 'deserve',\n",
       " 'deserving',\n",
       " 'design',\n",
       " 'designer',\n",
       " 'desperation',\n",
       " 'despicable',\n",
       " 'despise',\n",
       " 'despite',\n",
       " 'dessert',\n",
       " 'destroy',\n",
       " 'detachable',\n",
       " 'detail',\n",
       " 'deuchebaggery',\n",
       " 'device',\n",
       " 'devine',\n",
       " 'di',\n",
       " 'dialing',\n",
       " 'dialog',\n",
       " 'dialogue',\n",
       " 'diaper',\n",
       " 'dicken',\n",
       " 'die',\n",
       " 'dieing',\n",
       " 'difference',\n",
       " 'different',\n",
       " 'difficult',\n",
       " 'dignity',\n",
       " 'dime',\n",
       " 'dimensional',\n",
       " 'dine',\n",
       " 'dining',\n",
       " 'dinner',\n",
       " 'direct',\n",
       " 'directing',\n",
       " 'direction',\n",
       " 'director',\n",
       " 'dirt',\n",
       " 'dirty',\n",
       " 'dirty-',\n",
       " 'disagree',\n",
       " 'disapoinment',\n",
       " 'disappoint',\n",
       " 'disappointed',\n",
       " 'disappointing',\n",
       " 'disappointment',\n",
       " 'disapppointment',\n",
       " 'disaster',\n",
       " 'disbelief',\n",
       " 'discard',\n",
       " 'discomfort',\n",
       " 'discount',\n",
       " 'discover',\n",
       " 'discovery',\n",
       " 'disgrace',\n",
       " 'disgraceful',\n",
       " 'disgusted',\n",
       " 'disgusting',\n",
       " 'dish',\n",
       " 'dislike',\n",
       " 'dispenser',\n",
       " 'display',\n",
       " 'dissapointe',\n",
       " 'distant',\n",
       " 'distinction',\n",
       " 'distort',\n",
       " 'distract',\n",
       " 'disturb',\n",
       " 'diverse',\n",
       " 'diving',\n",
       " 'dna',\n",
       " 'documentary',\n",
       " 'dog',\n",
       " 'dollar',\n",
       " 'dominate',\n",
       " 'donut',\n",
       " 'door',\n",
       " \"dosen't\",\n",
       " 'double',\n",
       " 'doubt',\n",
       " 'douchey',\n",
       " 'dough',\n",
       " 'doughy',\n",
       " 'download',\n",
       " 'downside',\n",
       " 'downtown',\n",
       " 'dozen',\n",
       " 'drag',\n",
       " 'drago',\n",
       " 'drain',\n",
       " 'drama',\n",
       " 'dramatic',\n",
       " 'drastically',\n",
       " 'draw',\n",
       " 'drawback',\n",
       " 'drawing',\n",
       " 'dream',\n",
       " 'dreary',\n",
       " 'dress',\n",
       " 'dressing',\n",
       " 'drift',\n",
       " 'drink',\n",
       " 'dripping',\n",
       " 'drive',\n",
       " 'droid',\n",
       " 'drop',\n",
       " 'dropping',\n",
       " 'drunk',\n",
       " 'dry',\n",
       " 'dual',\n",
       " 'duck',\n",
       " 'dude',\n",
       " 'duet',\n",
       " 'dull',\n",
       " 'dumb',\n",
       " 'duo',\n",
       " 'duper',\n",
       " 'durable',\n",
       " 'dust',\n",
       " 'dvd',\n",
       " 'dysfunction',\n",
       " 'ear',\n",
       " 'earbud',\n",
       " 'earbug',\n",
       " 'eargel',\n",
       " 'early',\n",
       " 'earpad',\n",
       " 'earphone',\n",
       " 'earpiece',\n",
       " 'earset',\n",
       " 'earth',\n",
       " 'ease',\n",
       " 'easily',\n",
       " 'easy',\n",
       " 'eat',\n",
       " 'eating',\n",
       " 'echo',\n",
       " 'eclectic',\n",
       " 'ed',\n",
       " 'edge',\n",
       " 'edible',\n",
       " 'edinburgh',\n",
       " 'edit',\n",
       " 'editing',\n",
       " 'edition',\n",
       " 'educational',\n",
       " 'eel',\n",
       " 'eew',\n",
       " 'effect',\n",
       " 'effective',\n",
       " 'efficient',\n",
       " 'effort',\n",
       " 'egg',\n",
       " 'eggplant',\n",
       " 'egotism',\n",
       " 'eighth',\n",
       " 'elaborately',\n",
       " 'elderly',\n",
       " 'electronic',\n",
       " 'elegant',\n",
       " 'elegantly',\n",
       " 'email',\n",
       " 'embarassing',\n",
       " 'embarrassed',\n",
       " 'embarrassing',\n",
       " 'embassy',\n",
       " 'emilio',\n",
       " 'emily',\n",
       " 'emotion',\n",
       " 'emperor',\n",
       " 'employee',\n",
       " 'emptiness',\n",
       " 'en',\n",
       " 'enchanting',\n",
       " 'encourage',\n",
       " 'end',\n",
       " 'endearing',\n",
       " 'ending',\n",
       " 'endlessly',\n",
       " 'energetic',\n",
       " 'energy',\n",
       " 'engage',\n",
       " 'engaging',\n",
       " 'engineer',\n",
       " 'english',\n",
       " 'enjoy',\n",
       " 'enjoyable',\n",
       " 'enjoyment',\n",
       " 'ensue',\n",
       " 'enterprise',\n",
       " 'entertain',\n",
       " 'entertaining',\n",
       " 'entertainment',\n",
       " 'entire',\n",
       " 'entirely',\n",
       " 'entrance',\n",
       " 'entree',\n",
       " 'episode',\n",
       " 'equally',\n",
       " 'equivalent',\n",
       " 'era',\n",
       " 'errol',\n",
       " 'error',\n",
       " 'escapism',\n",
       " 'especially',\n",
       " 'establish',\n",
       " 'establishment',\n",
       " 'estate',\n",
       " 'etc',\n",
       " 'ethic',\n",
       " 'european',\n",
       " 'evening',\n",
       " 'event',\n",
       " 'eventually',\n",
       " 'evidently',\n",
       " 'evil',\n",
       " 'evoke',\n",
       " 'exactly',\n",
       " 'example',\n",
       " 'exceed',\n",
       " 'excellent',\n",
       " 'excellent!angel',\n",
       " 'excellently',\n",
       " 'exceptional',\n",
       " 'exceptionally',\n",
       " 'excerpt',\n",
       " 'excessive',\n",
       " 'exchange',\n",
       " 'exciting',\n",
       " 'exclaim',\n",
       " 'excruciatingly',\n",
       " 'excrutiatingly',\n",
       " 'excuse',\n",
       " 'exemplar',\n",
       " 'exercise',\n",
       " 'exist',\n",
       " 'existent',\n",
       " 'expand',\n",
       " 'expansive',\n",
       " 'expect',\n",
       " 'expectation',\n",
       " 'expensive',\n",
       " 'experience',\n",
       " 'experienced',\n",
       " 'expert',\n",
       " 'explain',\n",
       " 'explanation',\n",
       " 'exploit',\n",
       " 'exquisite',\n",
       " 'extant',\n",
       " 'extensive',\n",
       " 'exterior',\n",
       " 'external',\n",
       " 'extra',\n",
       " 'extraordinary',\n",
       " 'extremely',\n",
       " 'eye',\n",
       " 'f',\n",
       " 'fabulous',\n",
       " 'face',\n",
       " 'faceplate',\n",
       " 'facial',\n",
       " 'fact',\n",
       " 'factor',\n",
       " 'fail',\n",
       " 'fair',\n",
       " 'fairly',\n",
       " 'falafel',\n",
       " 'fall',\n",
       " 'falsely',\n",
       " 'fame',\n",
       " 'famed',\n",
       " 'family',\n",
       " 'famous',\n",
       " 'fan',\n",
       " 'fanciful',\n",
       " 'fantastic',\n",
       " 'far',\n",
       " 'farce',\n",
       " 'fare',\n",
       " 'fascinating',\n",
       " 'fascination',\n",
       " 'fashioned',\n",
       " 'fast',\n",
       " 'fat',\n",
       " 'father',\n",
       " 'faux',\n",
       " 'fav',\n",
       " 'favorite',\n",
       " 'favourite',\n",
       " 'fear',\n",
       " 'feature',\n",
       " 'fee',\n",
       " 'feel',\n",
       " 'feeling',\n",
       " 'feels',\n",
       " 'fella',\n",
       " 'fellow',\n",
       " 'female',\n",
       " 'fi',\n",
       " 'field',\n",
       " 'figure',\n",
       " 'file',\n",
       " 'filet',\n",
       " 'fill',\n",
       " 'fillet',\n",
       " 'film',\n",
       " 'filmiing',\n",
       " 'filmmaker',\n",
       " 'final',\n",
       " 'finally',\n",
       " ...]"
      ]
     },
     "execution_count": 87,
     "metadata": {},
     "output_type": "execute_result"
    }
   ],
   "source": [
    "tf.toarray()\n",
    "tfvectorizer.get_feature_names()"
   ]
  },
  {
   "cell_type": "code",
   "execution_count": 88,
   "id": "e5e3bf96",
   "metadata": {},
   "outputs": [
    {
     "data": {
      "text/plain": [
       "2919"
      ]
     },
     "execution_count": 88,
     "metadata": {},
     "output_type": "execute_result"
    }
   ],
   "source": [
    "len(tfvectorizer.get_feature_names())"
   ]
  },
  {
   "cell_type": "code",
   "execution_count": 89,
   "id": "f9138b42",
   "metadata": {},
   "outputs": [],
   "source": [
    "pipe = Pipeline([(\"cleaner\", predictors()),\n",
    "                 ('vectorizer', tfvectorizer)], verbose=True)"
   ]
  },
  {
   "cell_type": "code",
   "execution_count": null,
   "id": "4d053ad0",
   "metadata": {},
   "outputs": [],
   "source": [
    "example = [\"I do enjoy my job\",\n",
    " \"What a poor product!,I will have to get a new one\",\n",
    " \"I feel amazing!\",\n",
    " \"This class sucks\"]"
   ]
  },
  {
   "cell_type": "code",
   "execution_count": null,
   "id": "51ab6cae",
   "metadata": {},
   "outputs": [],
   "source": [
    "res = pipe.fit_transform(example)"
   ]
  },
  {
   "cell_type": "code",
   "execution_count": null,
   "id": "fdac31fe",
   "metadata": {},
   "outputs": [],
   "source": [
    "res.toarray()"
   ]
  },
  {
   "cell_type": "code",
   "execution_count": 96,
   "id": "06f4b458",
   "metadata": {},
   "outputs": [],
   "source": [
    "#Function to plot confusion matrix.\n",
    "def cmplot(cm):\n",
    "    ax= plt.subplot()\n",
    "    sns.heatmap(cm, annot=True, fmt='g', ax=ax);  #annot=True to annotate cells, ftm='g' to disable scientific notation\n",
    "\n",
    "    # labels, title and ticks\n",
    "    ax.set_xlabel('Predicted labels');\n",
    "    ax.set_ylabel('True labels'); \n",
    "    ax.set_title('Confusion Matrix'); \n",
    "    ax.xaxis.set_ticklabels(['0', '1']); \n",
    "    ax.yaxis.set_ticklabels(['0', '1']);"
   ]
  },
  {
   "cell_type": "markdown",
   "id": "2a90ff82",
   "metadata": {
    "heading_collapsed": true
   },
   "source": [
    "## Suporting Vector Machines"
   ]
  },
  {
   "cell_type": "code",
   "execution_count": null,
   "id": "54c31d96",
   "metadata": {
    "hidden": true
   },
   "outputs": [],
   "source": [
    "# SVC classifier\n",
    "from sklearn.svm import LinearSVC\n",
    "\n",
    "classifier_SVC = LinearSVC(verbose=True)"
   ]
  },
  {
   "cell_type": "code",
   "execution_count": null,
   "id": "102bc00b",
   "metadata": {
    "hidden": true
   },
   "outputs": [],
   "source": [
    "# Create the  pipeline to clean, tokenize, vectorize, and classify \n",
    "pipe1_svc = Pipeline([(\"cleaner\", predictors()),\n",
    "                 ('vectorizer', bow),\n",
    "                 ('classifier', classifier_SVC)], verbose=True)\n",
    "\n",
    "pipe2_svc = Pipeline([(\"cleaner\", predictors()),\n",
    "                 ('vectorizer', tfvectorizer),\n",
    "                 ('classifier', classifier_SVC)], verbose=True)"
   ]
  },
  {
   "cell_type": "code",
   "execution_count": null,
   "id": "90e0e7f6",
   "metadata": {
    "hidden": true
   },
   "outputs": [],
   "source": [
    "pipe1_svc.fit(X_train,y_train)\n",
    "pipe2_svc.fit(X_train,y_train)"
   ]
  },
  {
   "cell_type": "code",
   "execution_count": null,
   "id": "13dfe2b5",
   "metadata": {
    "hidden": true
   },
   "outputs": [],
   "source": [
    "svc1_prediction = pipe1_svc.predict(X_test)\n",
    "svc2_prediction = pipe2_svc.predict(X_test)"
   ]
  },
  {
   "cell_type": "code",
   "execution_count": null,
   "id": "271e1532",
   "metadata": {
    "hidden": true
   },
   "outputs": [],
   "source": [
    "metrics.confusion_matrix(y_test, svc1_prediction)\n",
    "#TN FP\n",
    "#FN TP"
   ]
  },
  {
   "cell_type": "code",
   "execution_count": null,
   "id": "6eb10cbe",
   "metadata": {
    "hidden": true
   },
   "outputs": [],
   "source": [
    "cm=metrics.confusion_matrix(y_test, svc1_prediction)\n",
    "cmplot(cm)"
   ]
  },
  {
   "cell_type": "code",
   "execution_count": null,
   "id": "c5ce9d76",
   "metadata": {
    "hidden": true
   },
   "outputs": [],
   "source": [
    "print(\"Accuracy:\",metrics.accuracy_score(y_test, svc1_prediction))\n",
    "print(\"Precision:\",metrics.precision_score(y_test, svc1_prediction))#Positive predictive value\n",
    "print(\"Recall:\",metrics.recall_score(y_test, svc1_prediction))#Sensitivity, hit rate, true positive rate\n",
    "print(\"Specificity:\", metrics.recall_score(y_test, svc1_prediction,pos_label=0))#Specificity, true negative rate\n",
    "print(\"F1 Score: \",metrics.f1_score(y_test,svc1_prediction))#measure of preciseness and robustness of model. 2TP/(2TP+FP+FN)"
   ]
  },
  {
   "cell_type": "code",
   "execution_count": null,
   "id": "cf46ca43",
   "metadata": {
    "hidden": true
   },
   "outputs": [],
   "source": [
    "cm=metrics.confusion_matrix(y_test, svc2_prediction)\n",
    "cmplot(cm)"
   ]
  },
  {
   "cell_type": "code",
   "execution_count": null,
   "id": "3c1def63",
   "metadata": {
    "hidden": true
   },
   "outputs": [],
   "source": [
    "print(\"Accuracy:\",metrics.accuracy_score(y_test, svc2_prediction))\n",
    "print(\"Precision:\",metrics.precision_score(y_test, svc2_prediction))\n",
    "print(\"Recall:\",metrics.recall_score(y_test, svc2_prediction))\n",
    "print(\"Specificity:\", metrics.recall_score(y_test, svc2_prediction,pos_label=0))\n",
    "print(\"F1 Score: \",metrics.f1_score(y_test,svc2_prediction))"
   ]
  },
  {
   "cell_type": "markdown",
   "id": "ef6283fe",
   "metadata": {},
   "source": [
    "## Logistic Regression"
   ]
  },
  {
   "cell_type": "code",
   "execution_count": 90,
   "id": "2228c90b",
   "metadata": {},
   "outputs": [],
   "source": [
    "# Logistic Regression Classifier\n",
    "from sklearn.linear_model import LogisticRegression\n",
    "classifier_LG = LogisticRegression(verbose=True)"
   ]
  },
  {
   "cell_type": "code",
   "execution_count": 128,
   "id": "1d066acc",
   "metadata": {},
   "outputs": [],
   "source": [
    "# Create the  pipeline to clean, tokenize, vectorize, and classify \n",
    "pipe1_LG = Pipeline([(\"cleaner\", predictors()),\n",
    "                 ('vectorizer', bow),\n",
    "                 ('classifier', classifier_LG)], verbose=True)\n",
    "\n",
    "pipe2_LG = Pipeline([(\"cleaner\", predictors()),\n",
    "                 ('vectorizer', tfvectorizer),\n",
    "                 ('classifier', classifier_LG)], verbose=True)"
   ]
  },
  {
   "cell_type": "code",
   "execution_count": 129,
   "id": "b53540e4",
   "metadata": {},
   "outputs": [
    {
     "name": "stdout",
     "output_type": "stream",
     "text": [
      "[Pipeline] ........... (step 1 of 3) Processing cleaner, total=   0.0s\n",
      "[Pipeline] ........ (step 2 of 3) Processing vectorizer, total=   7.9s\n",
      "RUNNING THE L-BFGS-B CODE\n",
      "\n",
      "           * * *\n",
      "\n",
      "Machine precision = 2.220D-16\n",
      " N =         3271     M =           10\n",
      "\n",
      "At X0         0 variables are exactly at the bounds\n",
      "\n",
      "At iterate    0    f=  1.33154D+03    |proj g|=  6.15000D+01\n",
      "\n",
      "At iterate   50    f=  6.80088D+02    |proj g|=  9.01651D-03\n",
      "[Pipeline] ........ (step 3 of 3) Processing classifier, total=   0.0s\n",
      "[Pipeline] ........... (step 1 of 3) Processing cleaner, total=   0.0s\n",
      "\n",
      "           * * *\n",
      "\n",
      "Tit   = total number of iterations\n",
      "Tnf   = total number of function evaluations\n",
      "Tnint = total number of segments explored during Cauchy searches\n",
      "Skip  = number of BFGS updates skipped\n",
      "Nact  = number of active bounds at final generalized Cauchy point\n",
      "Projg = norm of the final projected gradient\n",
      "F     = final function value\n",
      "\n",
      "           * * *\n",
      "\n",
      "   N    Tit     Tnf  Tnint  Skip  Nact     Projg        F\n",
      " 3271     58     61      1     0     0   6.101D-03   6.801D+02\n",
      "  F =   680.08805755596006     \n",
      "\n",
      "CONVERGENCE: REL_REDUCTION_OF_F_<=_FACTR*EPSMCH             \n"
     ]
    },
    {
     "name": "stderr",
     "output_type": "stream",
     "text": [
      "[Parallel(n_jobs=1)]: Using backend SequentialBackend with 1 concurrent workers.\n",
      " This problem is unconstrained.\n",
      "[Parallel(n_jobs=1)]: Done   1 out of   1 | elapsed:    0.0s finished\n"
     ]
    },
    {
     "name": "stdout",
     "output_type": "stream",
     "text": [
      "[Pipeline] ........ (step 2 of 3) Processing vectorizer, total=   8.1s\n",
      "RUNNING THE L-BFGS-B CODE\n",
      "\n",
      "           * * *\n",
      "\n",
      "Machine precision = 2.220D-16\n",
      " N =         3271     M =           10\n",
      "\n",
      "At X0         0 variables are exactly at the bounds\n",
      "\n",
      "At iterate    0    f=  1.33154D+03    |proj g|=  2.13949D+01\n",
      "[Pipeline] ........ (step 3 of 3) Processing classifier, total=   0.0s\n"
     ]
    },
    {
     "name": "stderr",
     "output_type": "stream",
     "text": [
      "[Parallel(n_jobs=1)]: Using backend SequentialBackend with 1 concurrent workers.\n",
      " This problem is unconstrained.\n",
      "[Parallel(n_jobs=1)]: Done   1 out of   1 | elapsed:    0.0s finished\n"
     ]
    },
    {
     "data": {
      "text/plain": [
       "Pipeline(steps=[('cleaner', <__main__.predictors object at 0x7f7b8d5f5b10>),\n",
       "                ('vectorizer',\n",
       "                 TfidfVectorizer(tokenizer=<function spacy_tokenizer at 0x7f7b7ed3f050>)),\n",
       "                ('classifier', LogisticRegression(verbose=True))],\n",
       "         verbose=True)"
      ]
     },
     "execution_count": 129,
     "metadata": {},
     "output_type": "execute_result"
    },
    {
     "name": "stdout",
     "output_type": "stream",
     "text": [
      "\n",
      "           * * *\n",
      "\n",
      "Tit   = total number of iterations\n",
      "Tnf   = total number of function evaluations\n",
      "Tnint = total number of segments explored during Cauchy searches\n",
      "Skip  = number of BFGS updates skipped\n",
      "Nact  = number of active bounds at final generalized Cauchy point\n",
      "Projg = norm of the final projected gradient\n",
      "F     = final function value\n",
      "\n",
      "           * * *\n",
      "\n",
      "   N    Tit     Tnf  Tnint  Skip  Nact     Projg        F\n",
      " 3271     20     24      1     0     0   1.211D-03   9.672D+02\n",
      "  F =   967.22004087261587     \n",
      "\n",
      "CONVERGENCE: REL_REDUCTION_OF_F_<=_FACTR*EPSMCH             \n"
     ]
    }
   ],
   "source": [
    "pipe1_LG.fit(X_train,y_train)\n",
    "pipe2_LG.fit(X_train,y_train)"
   ]
  },
  {
   "cell_type": "code",
   "execution_count": 130,
   "id": "6b216bb6",
   "metadata": {},
   "outputs": [],
   "source": [
    "plg1_prediction = pipe1_LG.predict(X_test)\n",
    "plg2_prediction = pipe2_LG.predict(X_test)"
   ]
  },
  {
   "cell_type": "code",
   "execution_count": 134,
   "id": "2ff686d0",
   "metadata": {},
   "outputs": [
    {
     "data": {
      "text/plain": [
       "array([[305,  99],\n",
       "       [ 69, 351]])"
      ]
     },
     "execution_count": 134,
     "metadata": {},
     "output_type": "execute_result"
    }
   ],
   "source": [
    "metrics.confusion_matrix(y_test, plg1_prediction)"
   ]
  },
  {
   "cell_type": "code",
   "execution_count": 135,
   "id": "fef45596",
   "metadata": {},
   "outputs": [
    {
     "data": {
      "image/png": "[encoded data removed]",
      "text/plain": [
       "<Figure size 432x288 with 2 Axes>"
      ]
     },
     "metadata": {
      "needs_background": "light"
     },
     "output_type": "display_data"
    }
   ],
   "source": [
    "cm=metrics.confusion_matrix(y_test, plg1_prediction)\n",
    "cmplot(cm)"
   ]
  },
  {
   "cell_type": "code",
   "execution_count": 136,
   "id": "7445e0f9",
   "metadata": {},
   "outputs": [
    {
     "name": "stdout",
     "output_type": "stream",
     "text": [
      "Accuracy: 0.7961165048543689\n",
      "Precision: 0.78\n",
      "Recall: 0.8357142857142857\n",
      "Specificity: 0.754950495049505\n",
      "F1 Score:  0.806896551724138\n"
     ]
    }
   ],
   "source": [
    "print(\"Accuracy:\",metrics.accuracy_score(y_test, plg1_prediction))\n",
    "print(\"Precision:\",metrics.precision_score(y_test, plg1_prediction))\n",
    "print(\"Recall:\",metrics.recall_score(y_test, plg1_prediction))\n",
    "print(\"Specificity:\", metrics.recall_score(y_test, plg1_prediction,pos_label=0))\n",
    "print(\"F1 Score: \",metrics.f1_score(y_test,plg1_prediction))"
   ]
  },
  {
   "cell_type": "code",
   "execution_count": 115,
   "id": "bba6ba76",
   "metadata": {},
   "outputs": [
    {
     "data": {
      "text/plain": [
       "0.794094766619519"
      ]
     },
     "execution_count": 115,
     "metadata": {},
     "output_type": "execute_result"
    }
   ],
   "source": [
    "metrics.roc_auc_score(y_test, plg1_prediction)"
   ]
  },
  {
   "cell_type": "code",
   "execution_count": 131,
   "id": "ce3c090e",
   "metadata": {},
   "outputs": [
    {
     "data": {
      "text/plain": [
       "array([[335,  69],\n",
       "       [105, 315]])"
      ]
     },
     "execution_count": 131,
     "metadata": {},
     "output_type": "execute_result"
    }
   ],
   "source": [
    "metrics.confusion_matrix(y_test, plg2_prediction)"
   ]
  },
  {
   "cell_type": "code",
   "execution_count": 132,
   "id": "d96db7ff",
   "metadata": {},
   "outputs": [
    {
     "data": {
      "image/png": "[encoded data removed]",
      "text/plain": [
       "<Figure size 432x288 with 2 Axes>"
      ]
     },
     "metadata": {
      "needs_background": "light"
     },
     "output_type": "display_data"
    }
   ],
   "source": [
    "cm=metrics.confusion_matrix(y_test, plg2_prediction)\n",
    "cmplot(cm)"
   ]
  },
  {
   "cell_type": "code",
   "execution_count": 133,
   "id": "b0aad399",
   "metadata": {},
   "outputs": [
    {
     "name": "stdout",
     "output_type": "stream",
     "text": [
      "Accuracy: 0.7888349514563107\n",
      "Precision: 0.8203125\n",
      "Recall: 0.75\n",
      "Specificity: 0.8292079207920792\n",
      "F1 Score:  0.7835820895522388\n"
     ]
    }
   ],
   "source": [
    "print(\"Accuracy:\",metrics.accuracy_score(y_test, plg2_prediction))\n",
    "print(\"Precision:\",metrics.precision_score(y_test, plg2_prediction))\n",
    "print(\"Recall:\",metrics.recall_score(y_test, plg2_prediction))\n",
    "print(\"Specificity:\", metrics.recall_score(y_test, plg2_prediction,pos_label=0))\n",
    "print(\"F1 Score: \",metrics.f1_score(y_test,plg2_prediction))"
   ]
  },
  {
   "cell_type": "code",
   "execution_count": 103,
   "id": "f661a418",
   "metadata": {},
   "outputs": [
    {
     "data": {
      "text/plain": [
       "(array([0.        , 0.17821782, 1.        ]),\n",
       " array([0.       , 0.7547619, 1.       ]),\n",
       " array([2, 1, 0]))"
      ]
     },
     "execution_count": 103,
     "metadata": {},
     "output_type": "execute_result"
    }
   ],
   "source": [
    "metrics.roc_curve(y_test, plg2_prediction)"
   ]
  },
  {
   "cell_type": "code",
   "execution_count": 104,
   "id": "fac40fd3",
   "metadata": {},
   "outputs": [
    {
     "data": {
      "text/plain": [
       "0.7882720414898633"
      ]
     },
     "execution_count": 104,
     "metadata": {},
     "output_type": "execute_result"
    }
   ],
   "source": [
    "metrics.roc_auc_score(y_test, plg2_prediction)"
   ]
  },
  {
   "cell_type": "code",
   "execution_count": null,
   "id": "779fca3f",
   "metadata": {},
   "outputs": [],
   "source": [
    "from sklearn.model_selection import cross_val_score"
   ]
  },
  {
   "cell_type": "code",
   "execution_count": null,
   "id": "9c8c65e6",
   "metadata": {},
   "outputs": [],
   "source": [
    "scores = cross_val_score(pipe2_LG, X, ylabels,cv=2)"
   ]
  },
  {
   "cell_type": "code",
   "execution_count": null,
   "id": "b3e27834",
   "metadata": {},
   "outputs": [],
   "source": [
    "scores"
   ]
  },
  {
   "cell_type": "code",
   "execution_count": 105,
   "id": "cb5b8818",
   "metadata": {},
   "outputs": [
    {
     "data": {
      "text/plain": [
       "array([1, 0, 1, 0])"
      ]
     },
     "execution_count": 105,
     "metadata": {},
     "output_type": "execute_result"
    }
   ],
   "source": [
    "example = [\"I do enjoy my job\",\n",
    " \"What a poor product!,I will have to get a new one\",\n",
    " \"I feel amazing!\",\n",
    " \"This class sucks\"]\n",
    "\n",
    "pipe2_LG.predict(example)"
   ]
  },
  {
   "cell_type": "code",
   "execution_count": 106,
   "id": "24f9ec85",
   "metadata": {},
   "outputs": [
    {
     "data": {
      "text/plain": [
       "array([[0.24217368, 0.75782632],\n",
       "       [0.83872248, 0.16127752],\n",
       "       [0.19692501, 0.80307499],\n",
       "       [0.73545333, 0.26454667]])"
      ]
     },
     "execution_count": 106,
     "metadata": {},
     "output_type": "execute_result"
    }
   ],
   "source": [
    "pipe2_LG.decision_function\n",
    "pipe2_LG.predict_proba(example)"
   ]
  },
  {
   "cell_type": "code",
   "execution_count": null,
   "id": "5f9e5a61",
   "metadata": {},
   "outputs": [],
   "source": [
    "pipe2_LG\n",
    "pipe2_LG.decision_function\n",
    "pipe2_LG.steps[2][1].coef_"
   ]
  },
  {
   "cell_type": "code",
   "execution_count": null,
   "id": "39ce648c",
   "metadata": {},
   "outputs": [],
   "source": [
    "pipe2_LG.steps[2][1].coef_.shape\n",
    "pipe2_LG.steps[1][1].vocabulary_#3270"
   ]
  },
  {
   "cell_type": "markdown",
   "id": "8edd4e74",
   "metadata": {
    "heading_collapsed": true
   },
   "source": [
    "## MultiLayer Perceptron "
   ]
  },
  {
   "cell_type": "code",
   "execution_count": null,
   "id": "8413d956",
   "metadata": {
    "hidden": true
   },
   "outputs": [],
   "source": [
    "# Multi layer perceptron\n",
    "from sklearn.neural_network import MLPClassifier\n",
    "\n",
    "classifier_MLP =  MLPClassifier(max_iter=400, hidden_layer_sizes=(100,2), verbose=True)"
   ]
  },
  {
   "cell_type": "code",
   "execution_count": null,
   "id": "1e38f1b5",
   "metadata": {
    "hidden": true
   },
   "outputs": [],
   "source": [
    "# Create the  pipeline to clean, tokenize, vectorize, and classify \n",
    "pipe1_mlp = Pipeline([(\"cleaner\", predictors()),\n",
    "                 ('vectorizer', bow),\n",
    "                 ('classifier', classifier_MLP)], verbose=True)\n",
    "\n",
    "pipe2_mlp = Pipeline([(\"cleaner\", predictors()),\n",
    "                 ('vectorizer', tfvectorizer),\n",
    "                 ('classifier', classifier_MLP)], verbose=True)"
   ]
  },
  {
   "cell_type": "code",
   "execution_count": null,
   "id": "c3d64ac8",
   "metadata": {
    "hidden": true
   },
   "outputs": [],
   "source": [
    "pipe1_mlp.fit(X_train,y_train)\n",
    "pipe2_mlp.fit(X_train,y_train)"
   ]
  },
  {
   "cell_type": "code",
   "execution_count": null,
   "id": "a9c13273",
   "metadata": {
    "hidden": true
   },
   "outputs": [],
   "source": [
    "mlp1_prediction = pipe1_mlp.predict(X_test)\n",
    "mlp2_prediction = pipe2_mlp.predict(X_test)"
   ]
  },
  {
   "cell_type": "code",
   "execution_count": null,
   "id": "512bd00d",
   "metadata": {
    "hidden": true
   },
   "outputs": [],
   "source": [
    "metrics.confusion_matrix(y_test, mlp1_prediction)"
   ]
  },
  {
   "cell_type": "code",
   "execution_count": null,
   "id": "fc81d11d",
   "metadata": {
    "hidden": true
   },
   "outputs": [],
   "source": [
    "cm=metrics.confusion_matrix(y_test, mlp1_prediction)\n",
    "cmplot(cm)"
   ]
  },
  {
   "cell_type": "code",
   "execution_count": null,
   "id": "b4519051",
   "metadata": {
    "hidden": true
   },
   "outputs": [],
   "source": [
    "print(\"Accuracy:\",metrics.accuracy_score(y_test, mlp1_prediction))\n",
    "print(\"Precision:\",metrics.precision_score(y_test, mlp1_prediction))\n",
    "print(\"Recall:\",metrics.recall_score(y_test, mlp1_prediction))\n",
    "print(\"Specificity:\", metrics.recall_score(y_test, mlp1_prediction,pos_label=0))\n",
    "print(\"F1 Score: \",metrics.f1_score(y_test,mlp1_prediction))"
   ]
  },
  {
   "cell_type": "code",
   "execution_count": null,
   "id": "1e79411e",
   "metadata": {
    "hidden": true
   },
   "outputs": [],
   "source": [
    "metrics.confusion_matrix(y_test, mlp2_prediction)"
   ]
  },
  {
   "cell_type": "code",
   "execution_count": null,
   "id": "a339917f",
   "metadata": {
    "hidden": true
   },
   "outputs": [],
   "source": [
    "cm=metrics.confusion_matrix(y_test, mlp2_prediction)\n",
    "cmplot(cm)"
   ]
  },
  {
   "cell_type": "code",
   "execution_count": null,
   "id": "d4307855",
   "metadata": {
    "hidden": true
   },
   "outputs": [],
   "source": [
    "print(\"Accuracy:\",metrics.accuracy_score(y_test, mlp2_prediction))\n",
    "print(\"Precision:\",metrics.precision_score(y_test, mlp2_prediction))\n",
    "print(\"Recall:\",metrics.recall_score(y_test, mlp2_prediction))\n",
    "print(\"Specificity:\", metrics.recall_score(y_test, mlp2_prediction,pos_label=0))\n",
    "print(\"F1 Score: \",metrics.f1_score(y_test,mlp2_prediction))"
   ]
  },
  {
   "cell_type": "code",
   "execution_count": null,
   "id": "e798fca4",
   "metadata": {
    "hidden": true
   },
   "outputs": [],
   "source": [
    "example = [\"I do enjoy my job\",\n",
    " \"What a poor product!,I will have to get a new one\",\n",
    " \"I feel amazing!\",\n",
    " \"This class sucks\"]\n",
    "\n",
    "#pipe2_mlp.predict(example)"
   ]
  },
  {
   "cell_type": "markdown",
   "id": "5f31674b",
   "metadata": {},
   "source": [
    "# Save Model"
   ]
  },
  {
   "cell_type": "code",
   "execution_count": null,
   "id": "40680a35",
   "metadata": {},
   "outputs": [],
   "source": [
    "import joblib"
   ]
  },
  {
   "cell_type": "code",
   "execution_count": null,
   "id": "f85425ce",
   "metadata": {},
   "outputs": [],
   "source": [
    "joblib.dump(pipe2_LG, \"model/logreg_tfidf2.pkl\")"
   ]
  },
  {
   "cell_type": "code",
   "execution_count": null,
   "id": "7200e697",
   "metadata": {},
   "outputs": [],
   "source": [
    "logreg_loaded = joblib.load(\"model/logreg_tfidf.pkl\")"
   ]
  },
  {
   "cell_type": "code",
   "execution_count": null,
   "id": "8e30b2bb",
   "metadata": {},
   "outputs": [],
   "source": [
    "logreg_loaded.predict(example)"
   ]
  },
  {
   "cell_type": "code",
   "execution_count": null,
   "id": "a595aa81",
   "metadata": {},
   "outputs": [],
   "source": [
    "joblib.dump(pipe2, \"mlp_tfidf.pkl\")"
   ]
  },
  {
   "cell_type": "code",
   "execution_count": null,
   "id": "9fcbef03",
   "metadata": {},
   "outputs": [],
   "source": [
    "mlp_loaded = joblib.load(\"mlp_tfidf.pkl\")"
   ]
  },
  {
   "cell_type": "code",
   "execution_count": null,
   "id": "c2a6e4b6",
   "metadata": {},
   "outputs": [],
   "source": [
    "mlp_loaded.predict(example)"
   ]
  },
  {
   "cell_type": "code",
   "execution_count": null,
   "id": "faca7a0d",
   "metadata": {},
   "outputs": [],
   "source": []
  }
 ],
 "metadata": {
  "kernelspec": {
   "display_name": "Python 3 (ipykernel)",
   "language": "python",
   "name": "python3"
  },
  "language_info": {
   "codemirror_mode": {
    "name": "ipython",
    "version": 3
   },
   "file_extension": ".py",
   "mimetype": "text/x-python",
   "name": "python",
   "nbconvert_exporter": "python",
   "pygments_lexer": "ipython3",
   "version": "3.7.10"
  },
  "toc": {
   "base_numbering": 1,
   "nav_menu": {},
   "number_sections": true,
   "sideBar": true,
   "skip_h1_title": false,
   "title_cell": "Table of Contents",
   "title_sidebar": "Contents",
   "toc_cell": false,
   "toc_position": {},
   "toc_section_display": true,
   "toc_window_display": true
  }
 },
 "nbformat": 4,
 "nbformat_minor": 5
}
