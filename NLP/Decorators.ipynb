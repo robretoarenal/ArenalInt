{
 "cells": [
  {
   "cell_type": "markdown",
   "id": "963428b2",
   "metadata": {},
   "source": [
    "https://www.datacamp.com/community/tutorials/decorators-python?utm_source=adwords_ppc&utm_campaignid=1455363063&utm_adgroupid=65083631748&utm_device=c&utm_keyword=&utm_matchtype=b&utm_network=g&utm_adpostion=&utm_creative=278443377095&utm_targetid=aud-299261629574:dsa-429603003980&utm_loc_interest_ms=&utm_loc_physical_ms=1010040&gclid=Cj0KCQjwpf2IBhDkARIsAGVo0D2gcchFA2rGwxbmEj5olQI1oTeNWPxQu7q0kmM_nKvY0uJORLfltqUaAr2OEALw_wcB"
   ]
  },
  {
   "cell_type": "code",
   "execution_count": 1,
   "id": "0f43e33b",
   "metadata": {},
   "outputs": [],
   "source": [
    "def plus_one(number):\n",
    "    return number + 1"
   ]
  },
  {
   "cell_type": "code",
   "execution_count": 3,
   "id": "d1581f99",
   "metadata": {},
   "outputs": [
    {
     "data": {
      "text/plain": [
       "<function __main__.plus_one(number)>"
      ]
     },
     "execution_count": 3,
     "metadata": {},
     "output_type": "execute_result"
    }
   ],
   "source": [
    "add_one = plus_one\n",
    "add_one"
   ]
  },
  {
   "cell_type": "code",
   "execution_count": 4,
   "id": "10acbf2e",
   "metadata": {},
   "outputs": [
    {
     "data": {
      "text/plain": [
       "6"
      ]
     },
     "execution_count": 4,
     "metadata": {},
     "output_type": "execute_result"
    }
   ],
   "source": [
    "add_one(5)"
   ]
  },
  {
   "cell_type": "code",
   "execution_count": 7,
   "id": "1047f5a6",
   "metadata": {},
   "outputs": [],
   "source": [
    "def plus_one(number):\n",
    "    def add_one(number):\n",
    "        return number + 1\n",
    "\n",
    "    result = add_one(number)\n",
    "    return result"
   ]
  },
  {
   "cell_type": "code",
   "execution_count": 8,
   "id": "bb5304b7",
   "metadata": {},
   "outputs": [
    {
     "data": {
      "text/plain": [
       "5"
      ]
     },
     "execution_count": 8,
     "metadata": {},
     "output_type": "execute_result"
    }
   ],
   "source": [
    "plus_one(4)"
   ]
  },
  {
   "cell_type": "code",
   "execution_count": 9,
   "id": "36291cdb",
   "metadata": {},
   "outputs": [],
   "source": [
    "#Functions as parameters and functions returning functions. \n",
    "def plus_one(number):\n",
    "    return number + 1\n",
    "\n",
    "def function_call(function):\n",
    "    number_to_add = 5\n",
    "    return function(number_to_add)"
   ]
  },
  {
   "cell_type": "code",
   "execution_count": 14,
   "id": "683fb407",
   "metadata": {},
   "outputs": [
    {
     "data": {
      "text/plain": [
       "6"
      ]
     },
     "execution_count": 14,
     "metadata": {},
     "output_type": "execute_result"
    }
   ],
   "source": [
    "function_call(plus_one)"
   ]
  },
  {
   "cell_type": "code",
   "execution_count": 15,
   "id": "c1789a47",
   "metadata": {},
   "outputs": [],
   "source": [
    "#Functions inside functions\n",
    "def hello_function():\n",
    "    def say_hi():\n",
    "        return \"Hi\"\n",
    "    return say_hi"
   ]
  },
  {
   "cell_type": "code",
   "execution_count": 16,
   "id": "119bb5ee",
   "metadata": {},
   "outputs": [],
   "source": [
    "hello = hello_function()"
   ]
  },
  {
   "cell_type": "code",
   "execution_count": 19,
   "id": "c8f69ac1",
   "metadata": {},
   "outputs": [
    {
     "data": {
      "text/plain": [
       "'Hi'"
      ]
     },
     "execution_count": 19,
     "metadata": {},
     "output_type": "execute_result"
    }
   ],
   "source": [
    "hello()"
   ]
  },
  {
   "cell_type": "code",
   "execution_count": 23,
   "id": "5f938c4b",
   "metadata": {},
   "outputs": [],
   "source": [
    "#Python allows a nested function to access the outer scope of the enclosing function. This is known as closure. \n",
    "def print_message(message):\n",
    "    \"Enclosong Function\"\n",
    "    def message_sender():\n",
    "        \"Nested Function\"\n",
    "        print(message)\n",
    "    \n",
    "    message_sender()"
   ]
  },
  {
   "cell_type": "code",
   "execution_count": 25,
   "id": "317f0daf",
   "metadata": {},
   "outputs": [
    {
     "name": "stdout",
     "output_type": "stream",
     "text": [
      "Some message\n"
     ]
    }
   ],
   "source": [
    "print_message(\"Some message\")"
   ]
  },
  {
   "cell_type": "code",
   "execution_count": 26,
   "id": "290cefa7",
   "metadata": {},
   "outputs": [],
   "source": [
    "def uppercase_decorator(function):\n",
    "    def wrapper():\n",
    "        func = function()\n",
    "        make_uppercase = func.upper()\n",
    "        return make_uppercase\n",
    "\n",
    "    return wrapper"
   ]
  },
  {
   "cell_type": "code",
   "execution_count": 27,
   "id": "e88e65a6",
   "metadata": {},
   "outputs": [],
   "source": [
    "def say_hi():\n",
    "    return 'hello there'"
   ]
  },
  {
   "cell_type": "code",
   "execution_count": 30,
   "id": "01cca786",
   "metadata": {},
   "outputs": [
    {
     "data": {
      "text/plain": [
       "'HELLO THERE'"
      ]
     },
     "execution_count": 30,
     "metadata": {},
     "output_type": "execute_result"
    }
   ],
   "source": [
    "decorate = uppercase_decorator(say_hi)\n",
    "decorate()"
   ]
  },
  {
   "cell_type": "code",
   "execution_count": 31,
   "id": "9912923b",
   "metadata": {},
   "outputs": [],
   "source": [
    "#We are decorating the function say_hi with the uppercase_decorator function\n",
    "@uppercase_decorator\n",
    "def say_hi():\n",
    "    return 'hello there'"
   ]
  },
  {
   "cell_type": "code",
   "execution_count": 32,
   "id": "90e62b6a",
   "metadata": {},
   "outputs": [
    {
     "data": {
      "text/plain": [
       "'HELLO THERE'"
      ]
     },
     "execution_count": 32,
     "metadata": {},
     "output_type": "execute_result"
    }
   ],
   "source": [
    "say_hi()"
   ]
  },
  {
   "cell_type": "code",
   "execution_count": 36,
   "id": "47cdfdb2",
   "metadata": {},
   "outputs": [],
   "source": [
    "def split_string(function):\n",
    "    def wrapper():\n",
    "        func = function()#function say_hi is called without decorators applied.  \n",
    "        print(func)\n",
    "        splitted_string = func.split()\n",
    "        return splitted_string\n",
    "\n",
    "    return wrapper"
   ]
  },
  {
   "cell_type": "code",
   "execution_count": 38,
   "id": "531d500c",
   "metadata": {},
   "outputs": [],
   "source": [
    "@split_string\n",
    "@uppercase_decorator\n",
    "def say_hi():\n",
    "    return 'hello there'"
   ]
  },
  {
   "cell_type": "code",
   "execution_count": 39,
   "id": "65119fbd",
   "metadata": {},
   "outputs": [
    {
     "name": "stdout",
     "output_type": "stream",
     "text": [
      "HELLO THERE\n"
     ]
    },
    {
     "data": {
      "text/plain": [
       "['HELLO', 'THERE']"
      ]
     },
     "execution_count": 39,
     "metadata": {},
     "output_type": "execute_result"
    }
   ],
   "source": [
    "say_hi()"
   ]
  },
  {
   "cell_type": "code",
   "execution_count": 54,
   "id": "af6b3653",
   "metadata": {},
   "outputs": [],
   "source": [
    "import functools\n",
    "\n",
    "def uppercase_decorator(func):\n",
    "    @functools.wraps(func)\n",
    "    def wrapper():\n",
    "        return func().upper()\n",
    "    return wrapper"
   ]
  },
  {
   "cell_type": "code",
   "execution_count": 55,
   "id": "77c644a1",
   "metadata": {},
   "outputs": [
    {
     "data": {
      "text/plain": [
       "'HELLO THERE'"
      ]
     },
     "execution_count": 55,
     "metadata": {},
     "output_type": "execute_result"
    }
   ],
   "source": [
    "@uppercase_decorator\n",
    "def say_hi():\n",
    "    \"This will say hi\"\n",
    "    return 'hello there'\n",
    "\n",
    "say_hi()"
   ]
  },
  {
   "cell_type": "code",
   "execution_count": 56,
   "id": "44370004",
   "metadata": {},
   "outputs": [
    {
     "data": {
      "text/plain": [
       "'This will say hi'"
      ]
     },
     "execution_count": 56,
     "metadata": {},
     "output_type": "execute_result"
    }
   ],
   "source": [
    "say_hi.__doc__"
   ]
  },
  {
   "cell_type": "markdown",
   "id": "1cc382e9",
   "metadata": {},
   "source": [
    "https://www.python-course.eu/python3_decorators.php"
   ]
  },
  {
   "cell_type": "code",
   "execution_count": 49,
   "id": "d2a4d2ae",
   "metadata": {},
   "outputs": [],
   "source": [
    "def greeting_func_gen(lang):\n",
    "    def customized_greeting(name):\n",
    "        \"This is the wrapper!\"\n",
    "        if lang == \"de\":   # German\n",
    "            phrase = \"Guten Morgen \"\n",
    "        elif lang == \"fr\": # French\n",
    "            phrase = \"Bonjour \"\n",
    "        elif lang == \"it\": # Italian\n",
    "            phrase = \"Buongiorno \"\n",
    "        elif lang == \"tr\": # Turkish\n",
    "            phrase = \"Günaydın \"\n",
    "        elif lang == \"gr\": # Greek\n",
    "            phrase = \"Καλημερα \"\n",
    "        else:\n",
    "            phrase = \"Hi \"\n",
    "        return phrase + name + \"!\"\n",
    "    return customized_greeting"
   ]
  },
  {
   "cell_type": "code",
   "execution_count": 51,
   "id": "b87757eb",
   "metadata": {},
   "outputs": [
    {
     "name": "stdout",
     "output_type": "stream",
     "text": [
      "<function greeting_func_gen.<locals>.customized_greeting at 0x7fbf4e0855f0>\n",
      "Guten Morgen Beto!\n"
     ]
    }
   ],
   "source": [
    "say_hi = greeting_func_gen(\"de\")\n",
    "print(say_hi)\n",
    "print(say_hi(\"Beto\")) "
   ]
  },
  {
   "cell_type": "code",
   "execution_count": 52,
   "id": "1f4bf442",
   "metadata": {},
   "outputs": [
    {
     "data": {
      "text/plain": [
       "'customized_greeting'"
      ]
     },
     "execution_count": 52,
     "metadata": {},
     "output_type": "execute_result"
    }
   ],
   "source": [
    "say_hi.__name__"
   ]
  },
  {
   "cell_type": "code",
   "execution_count": 53,
   "id": "ffefbe86",
   "metadata": {},
   "outputs": [
    {
     "data": {
      "text/plain": [
       "'This is the wrapper!'"
      ]
     },
     "execution_count": 53,
     "metadata": {},
     "output_type": "execute_result"
    }
   ],
   "source": [
    "say_hi.__doc__"
   ]
  },
  {
   "cell_type": "code",
   "execution_count": null,
   "id": "798eed7d",
   "metadata": {},
   "outputs": [],
   "source": []
  }
 ],
 "metadata": {
  "kernelspec": {
   "display_name": "Python 3 (ipykernel)",
   "language": "python",
   "name": "python3"
  },
  "language_info": {
   "codemirror_mode": {
    "name": "ipython",
    "version": 3
   },
   "file_extension": ".py",
   "mimetype": "text/x-python",
   "name": "python",
   "nbconvert_exporter": "python",
   "pygments_lexer": "ipython3",
   "version": "3.7.10"
  },
  "toc": {
   "base_numbering": 1,
   "nav_menu": {},
   "number_sections": true,
   "sideBar": true,
   "skip_h1_title": false,
   "title_cell": "Table of Contents",
   "title_sidebar": "Contents",
   "toc_cell": false,
   "toc_position": {},
   "toc_section_display": true,
   "toc_window_display": false
  }
 },
 "nbformat": 4,
 "nbformat_minor": 5
}
